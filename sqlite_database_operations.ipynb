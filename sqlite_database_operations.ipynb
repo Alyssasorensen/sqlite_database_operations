{
  "nbformat": 4,
  "nbformat_minor": 0,
  "metadata": {
    "colab": {
      "provenance": [],
      "toc_visible": true,
      "authorship_tag": "ABX9TyNyzdXF1z1y0chXn1ARLpPu",
      "include_colab_link": true
    },
    "kernelspec": {
      "name": "python3",
      "display_name": "Python 3"
    },
    "language_info": {
      "name": "python"
    }
  },
  "cells": [
    {
      "cell_type": "markdown",
      "metadata": {
        "id": "view-in-github",
        "colab_type": "text"
      },
      "source": [
        "<a href=\"https://colab.research.google.com/github/Alyssasorensen/sqlite_database_operations/blob/main/sqlite_database_operations.ipynb\" target=\"_parent\"><img src=\"https://colab.research.google.com/assets/colab-badge.svg\" alt=\"Open In Colab\"/></a>"
      ]
    },
    {
      "cell_type": "markdown",
      "source": [
        "# Week 3 Homework Assignment: Introduction to Databases with SQLite\n",
        "\n"
      ],
      "metadata": {
        "id": "sifb0Jx0L5FO"
      }
    },
    {
      "cell_type": "markdown",
      "source": [
        "## 1. Data Exploration and Analysis:"
      ],
      "metadata": {
        "id": "to4FimXjL3Ne"
      }
    },
    {
      "cell_type": "code",
      "execution_count": 1,
      "metadata": {
        "id": "HE0DQDpbGL7Q"
      },
      "outputs": [],
      "source": [
        "import pandas as pd\n",
        "import numpy as np\n",
        "import matplotlib.pyplot as plt"
      ]
    },
    {
      "cell_type": "code",
      "source": [
        "df1 = pd.read_csv('https://raw.githubusercontent.com/Alyssasorensen/sqlite_database_operations/main/datasets/113243405_StonyBrookUniversityHospital_standardcharges.csv')"
      ],
      "metadata": {
        "id": "QSxQhGiKWHOO"
      },
      "execution_count": 17,
      "outputs": []
    },
    {
      "cell_type": "code",
      "source": [
        "print(\"Dataset 1 Overview:\")\n",
        "print(df1.head())"
      ],
      "metadata": {
        "colab": {
          "base_uri": "https://localhost:8080/"
        },
        "id": "zy5hZLpnWfO7",
        "outputId": "228685ba-9f61-40d8-c3e4-b80f9047abcb"
      },
      "execution_count": 18,
      "outputs": [
        {
          "output_type": "stream",
          "name": "stdout",
          "text": [
            "Dataset 1 Overview:\n",
            "    Code                                        Description        Type  \\\n",
            "0  10004  FINE NEEDLE ASPIRATION BIOPSY, EACH ADDITIONAL...  Outpatient   \n",
            "1  10005  FINE NEEDLE ASPIRATION BIOPSY USING ULTRASOUND...  Outpatient   \n",
            "2  10005  FINE NEEDLE ASPIRATION BIOPSY USING ULTRASOUND...  Outpatient   \n",
            "3  10006  FINE NEEDLE ASPIRATION BIOPSY USING ULTRASOUND...  Outpatient   \n",
            "4  10009  FINE NEEDLE ASPIRATION BIOPSY OF GROWTH USING ...  Outpatient   \n",
            "\n",
            "  Package/Line_Level  Gross charge  Discounted cash price  \\\n",
            "0               Line        718.67                 718.67   \n",
            "1               Line       2061.25                2061.25   \n",
            "2            Package       2061.25                2061.25   \n",
            "3               Line        728.54                 728.54   \n",
            "4               Line       2823.01                2823.01   \n",
            "\n",
            "   De-identified min contracted rate  De-identified max contracted rate  \\\n",
            "0                            2155.50                            2155.50   \n",
            "1                              87.02                            4782.00   \n",
            "2                              87.02                            4782.00   \n",
            "3                              58.55                            1761.25   \n",
            "4                             446.28                            6017.59   \n",
            "\n",
            "   Derived contracted rate  1199-Commercial other  ...  \\\n",
            "0                  2155.50                    NaN  ...   \n",
            "1                  2308.44                 2411.0  ...   \n",
            "2                  2308.44                 2411.0  ...   \n",
            "3                   909.90                    NaN  ...   \n",
            "4                  4219.31                 4592.0  ...   \n",
            "\n",
            "   Optum-Commercial other  Oxford-Commercial other  Oxford-Commercial HMO/POS  \\\n",
            "0                     NaN                      NaN                        NaN   \n",
            "1                     NaN                   4782.0                        NaN   \n",
            "2                     NaN                   4782.0                        NaN   \n",
            "3                     NaN                      NaN                        NaN   \n",
            "4                     NaN                      NaN                        NaN   \n",
            "\n",
            "   Tricare-Commercial other  United Healthcare-Commercial other  \\\n",
            "0                       NaN                                 NaN   \n",
            "1                       NaN                             3845.25   \n",
            "2                       NaN                             3845.25   \n",
            "3                       NaN                                 NaN   \n",
            "4                       NaN                             5127.00   \n",
            "\n",
            "   United Healthcare-Medicare Advantage HMO  \\\n",
            "0                                       NaN   \n",
            "1                                       NaN   \n",
            "2                                       NaN   \n",
            "3                                       NaN   \n",
            "4                                       NaN   \n",
            "\n",
            "   United Healthcare-Commercial HMO/POS  United Healthcare-Medicaid HMO  \\\n",
            "0                                   NaN                             NaN   \n",
            "1                                   NaN                          658.94   \n",
            "2                                   NaN                          658.94   \n",
            "3                                   NaN                             NaN   \n",
            "4                                   NaN                             NaN   \n",
            "\n",
            "   United Healthcare-Commercial PPO/Open Access  \\\n",
            "0                                           NaN   \n",
            "1                                           NaN   \n",
            "2                                           NaN   \n",
            "3                                           NaN   \n",
            "4                                           NaN   \n",
            "\n",
            "   Veteran Family-Commercial other  \n",
            "0                              NaN  \n",
            "1                              NaN  \n",
            "2                              NaN  \n",
            "3                              NaN  \n",
            "4                              NaN  \n",
            "\n",
            "[5 rows x 57 columns]\n"
          ]
        }
      ]
    },
    {
      "cell_type": "code",
      "source": [
        "print(\"Summary Statistics for Dataset 1:\")\n",
        "print(df1.describe())"
      ],
      "metadata": {
        "colab": {
          "base_uri": "https://localhost:8080/"
        },
        "id": "750I6ORhWoaB",
        "outputId": "bc8d7ad1-dd95-4003-97d6-014cafc84295"
      },
      "execution_count": 19,
      "outputs": [
        {
          "output_type": "stream",
          "name": "stdout",
          "text": [
            "Summary Statistics for Dataset 1:\n",
            "       Gross charge  Discounted cash price  De-identified min contracted rate  \\\n",
            "count  7.710000e+03           7.710000e+03                        6254.000000   \n",
            "mean   2.274832e+04           2.274832e+04                        4090.693876   \n",
            "std    7.470570e+04           7.470570e+04                       10576.213503   \n",
            "min    3.000000e-02           3.000000e-02                           0.010000   \n",
            "25%    1.065895e+03           1.065895e+03                          96.520000   \n",
            "50%    4.745295e+03           4.745295e+03                        1108.860000   \n",
            "75%    1.103881e+04           1.103881e+04                        4309.532500   \n",
            "max    1.857952e+06           1.857952e+06                      327869.690000   \n",
            "\n",
            "       De-identified max contracted rate  Derived contracted rate  \\\n",
            "count                       6.254000e+03              6254.000000   \n",
            "mean                        1.003579e+04              6315.587725   \n",
            "std                         2.915075e+04             14601.846406   \n",
            "min                         1.000000e-01                 0.030000   \n",
            "25%                         6.982500e+02               403.117500   \n",
            "50%                         4.311000e+03              2600.740000   \n",
            "75%                         8.170000e+03              5870.540000   \n",
            "max                         1.302636e+06            370099.900000   \n",
            "\n",
            "       1199-Commercial other  Aetna-Medicare Advantage HMO  \\\n",
            "count            1014.000000                   1106.000000   \n",
            "mean             5791.542456                   5614.005027   \n",
            "std             24302.352403                  12671.487487   \n",
            "min                 0.010000                      1.100000   \n",
            "25%               148.797500                    125.070000   \n",
            "50%               974.400000                    714.860000   \n",
            "75%              4592.000000                   5782.430000   \n",
            "max            331304.280000                 157848.600000   \n",
            "\n",
            "       Aetna-Commercial HMO/POS  Aetna-Commercial PPO/Open Access  \\\n",
            "count               1827.000000                       1612.000000   \n",
            "mean                4320.418248                       4436.188381   \n",
            "std                 8718.537182                       8881.733882   \n",
            "min                    0.020000                          0.500000   \n",
            "25%                  277.900000                        312.750000   \n",
            "50%                 2153.000000                       2153.000000   \n",
            "75%                 4822.000000                       4822.000000   \n",
            "max                99999.990000                      96372.570000   \n",
            "\n",
            "       Aetna-Commercial other  ...  Optum-Commercial other  \\\n",
            "count              128.000000  ...              943.000000   \n",
            "mean              1703.756250  ...            10868.205705   \n",
            "std               5124.232802  ...            20703.429246   \n",
            "min                  0.590000  ...                2.370000   \n",
            "25%                110.387500  ...              200.450000   \n",
            "50%                404.500000  ...             1700.200000   \n",
            "75%               1778.920000  ...            13359.895000   \n",
            "max              54838.130000  ...           277267.380000   \n",
            "\n",
            "       Oxford-Commercial other  Oxford-Commercial HMO/POS  \\\n",
            "count              1777.000000                        0.0   \n",
            "mean               2572.653849                        NaN   \n",
            "std                4036.667401                        NaN   \n",
            "min                   0.010000                        NaN   \n",
            "25%                 197.880000                        NaN   \n",
            "50%                1932.380000                        NaN   \n",
            "75%                4704.000000                        NaN   \n",
            "max               80891.260000                        NaN   \n",
            "\n",
            "       Tricare-Commercial other  United Healthcare-Commercial other  \\\n",
            "count                434.000000                         2357.000000   \n",
            "mean                2070.212120                         5977.464298   \n",
            "std                 8501.228677                        16227.981498   \n",
            "min                    1.000000                            0.010000   \n",
            "25%                   71.220000                          258.500000   \n",
            "50%                  236.230000                         1571.000000   \n",
            "75%                 1486.947500                         5127.000000   \n",
            "max               154940.610000                       291490.750000   \n",
            "\n",
            "       United Healthcare-Medicare Advantage HMO  \\\n",
            "count                                624.000000   \n",
            "mean                                4438.776234   \n",
            "std                                 9982.579323   \n",
            "min                                    1.330000   \n",
            "25%                                   96.290000   \n",
            "50%                                  387.500000   \n",
            "75%                                 3531.920000   \n",
            "max                                92493.910000   \n",
            "\n",
            "       United Healthcare-Commercial HMO/POS  United Healthcare-Medicaid HMO  \\\n",
            "count                            133.000000                     2065.000000   \n",
            "mean                            3261.594586                     2454.314228   \n",
            "std                            10266.478193                    11009.140577   \n",
            "min                                0.190000                        0.010000   \n",
            "25%                              129.000000                       42.980000   \n",
            "50%                              444.000000                      425.790000   \n",
            "75%                             2257.430000                     1753.100000   \n",
            "max                            88051.340000                   327869.690000   \n",
            "\n",
            "       United Healthcare-Commercial PPO/Open Access  \\\n",
            "count                                    357.000000   \n",
            "mean                                     789.416667   \n",
            "std                                     2880.486830   \n",
            "min                                        0.180000   \n",
            "25%                                        8.400000   \n",
            "50%                                       34.830000   \n",
            "75%                                      286.800000   \n",
            "max                                    26350.000000   \n",
            "\n",
            "       Veteran Family-Commercial other  \n",
            "count                        46.000000  \n",
            "mean                        702.261087  \n",
            "std                        1717.006016  \n",
            "min                           2.480000  \n",
            "25%                          26.810000  \n",
            "50%                          82.710000  \n",
            "75%                         235.000000  \n",
            "max                        7195.400000  \n",
            "\n",
            "[8 rows x 53 columns]\n"
          ]
        }
      ]
    },
    {
      "cell_type": "code",
      "source": [
        "# Example histogram for a numerical column 'Gross charge' in Dataset 1\n",
        "plt.hist(df1['Gross charge'], bins=20)\n",
        "plt.xlabel('Gross charge')\n",
        "plt.ylabel('Frequency')\n",
        "plt.title('Gross Charge Distribution in Dataset 1')\n",
        "plt.show()"
      ],
      "metadata": {
        "colab": {
          "base_uri": "https://localhost:8080/",
          "height": 472
        },
        "id": "Mm_BTCldW0Q7",
        "outputId": "c228e92d-edf3-4619-ce79-ab255186a71b"
      },
      "execution_count": 22,
      "outputs": [
        {
          "output_type": "display_data",
          "data": {
            "text/plain": [
              "<Figure size 640x480 with 1 Axes>"
            ],
            "image/png": "[encoded data removed]"
          },
          "metadata": {}
        }
      ]
    },
    {
      "cell_type": "code",
      "source": [
        "# Another example histogram for a numerical column 'Aetna-Commercial HMO/POS' in Dataset 1\n",
        "plt.hist(df1['Aetna-Commercial HMO/POS'], bins=20)\n",
        "plt.xlabel('Aetna-Commercial HMO/POS')\n",
        "plt.ylabel('Frequency')\n",
        "plt.title('Aetna-Commercial HMO/POS Distribution in Dataset 1')\n",
        "plt.show()"
      ],
      "metadata": {
        "colab": {
          "base_uri": "https://localhost:8080/",
          "height": 472
        },
        "id": "tAQ529dJXZaN",
        "outputId": "a39ca5b2-865a-4651-f430-650327da3c17"
      },
      "execution_count": 23,
      "outputs": [
        {
          "output_type": "display_data",
          "data": {
            "text/plain": [
              "<Figure size 640x480 with 1 Axes>"
            ],
            "image/png": "[encoded data removed]"
          },
          "metadata": {}
        }
      ]
    },
    {
      "cell_type": "code",
      "source": [
        "print(\"Missing Values in Dataset 1:\")\n",
        "print(df1.isnull().sum())"
      ],
      "metadata": {
        "colab": {
          "base_uri": "https://localhost:8080/"
        },
        "id": "VQsglC_gYBTu",
        "outputId": "4c144f3f-f8ee-4dc7-dea4-c27de3b79ae1"
      },
      "execution_count": 24,
      "outputs": [
        {
          "output_type": "stream",
          "name": "stdout",
          "text": [
            "Missing Values in Dataset 1:\n",
            "Code                                               0\n",
            "Description                                        0\n",
            "Type                                             783\n",
            "Package/Line_Level                               783\n",
            "Gross charge                                       0\n",
            "Discounted cash price                              0\n",
            "De-identified min contracted rate               1456\n",
            "De-identified max contracted rate               1456\n",
            "Derived contracted rate                         1456\n",
            "1199-Commercial other                           6696\n",
            "Aetna-Medicare Advantage HMO                    6604\n",
            "Aetna-Commercial HMO/POS                        5883\n",
            "Aetna-Commercial PPO/Open Access                6098\n",
            "Aetna-Commercial other                          7582\n",
            "Empire Health-Commercial other                  4650\n",
            "Empire Health-Commercial PPO/Open Access        5308\n",
            "BlueCross BlueShield-Commercial other           6456\n",
            "Beacon Health-Commercial other                  7707\n",
            "Carelon Health-Commercial other                 7707\n",
            "Cigna-Commercial PPO/Open Access                5744\n",
            "Cigna-Commercial other                          7667\n",
            "Cigna-Commercial HMO/POS                        7704\n",
            "EH Facet-Commercial other                       7710\n",
            "EmblemHealth-Commercial PPO/Open Access         6964\n",
            "EmblemHealth-Commercial other                   5640\n",
            "EmblemHealth-Commercial HMO/POS                 6324\n",
            "EmblemHealth-Medicaid HMO                       7710\n",
            "EmblemHealth-Medicare Advantage HMO             7710\n",
            "Empire Health-Commercial HMO/POS                6031\n",
            "Empire Health-Medicare Advantage HMO            6636\n",
            "Empire Health-Medicaid HMO                      7708\n",
            "Evernorth-Commercial other                      7702\n",
            "Fidelis-Commercial other                        6790\n",
            "Fidelis-Medicare Advantage HMO                  7442\n",
            "Fidelis-Medicaid HMO                            5353\n",
            "GHI-Commercial other                            7710\n",
            "HealthFirst-Commercial other                    5634\n",
            "HealthFirst-Medicare Advantage HMO              7608\n",
            "HealthFirst-Medicaid HMO                        7710\n",
            "HealthPlus HP-Medicaid HMO                      6920\n",
            "HealthPlus HP-Commercial other                  7413\n",
            "HealthPlus HP-Medicare Advantage HMO            7005\n",
            "Humana-Commercial other                         7677\n",
            "Humana-Commercial HMO/POS                       7463\n",
            "Humana-Commercial PPO/Open Access               7236\n",
            "Meritain Health-Commercial other                7260\n",
            "Molina-Commercial other                         6963\n",
            "Optum-Commercial other                          6767\n",
            "Oxford-Commercial other                         5933\n",
            "Oxford-Commercial HMO/POS                       7710\n",
            "Tricare-Commercial other                        7276\n",
            "United Healthcare-Commercial other              5353\n",
            "United Healthcare-Medicare Advantage HMO        7086\n",
            "United Healthcare-Commercial HMO/POS            7577\n",
            "United Healthcare-Medicaid HMO                  5645\n",
            "United Healthcare-Commercial PPO/Open Access    7353\n",
            "Veteran Family-Commercial other                 7664\n",
            "dtype: int64\n"
          ]
        }
      ]
    },
    {
      "cell_type": "code",
      "source": [
        "# Example: Frequency counts for a categorical column 'Description' in Dataset 1\n",
        "print(\"Frequency Counts for 'Description' in Dataset 1:\")\n",
        "print(df1['Description'].value_counts())"
      ],
      "metadata": {
        "colab": {
          "base_uri": "https://localhost:8080/"
        },
        "id": "JxC86EBRYI0a",
        "outputId": "6dba221b-0ea8-4fae-dece-193c22d857d7"
      },
      "execution_count": 25,
      "outputs": [
        {
          "output_type": "stream",
          "name": "stdout",
          "text": [
            "Frequency Counts for 'Description' in Dataset 1:\n",
            "R&B MED 05CA SEMI-PRIVATE/2                                                                   3\n",
            "R&B SHA 05PS/11PS SEMI-PRIVATE                                                                3\n",
            "DESTRUCTION OF FIRST DIVISION OF FACE NERVE BRANCH                                            2\n",
            "INJECTION OF CHEMICAL FOR PARALYSIS OF SALIVARY GLANDS ON BOTH SIDES OF MOUTH                 2\n",
            "INJECTION OF CHEMICAL FOR PARALYSIS OF FACIAL AND NECK NERVE MUSCLES ON BOTH SIDES OF FACE    2\n",
            "                                                                                             ..\n",
            "ANCHOR/SCREW FOR OPPOSING BONE-TO-BONE OR SOFT TISSUE-TO-BONE (IMPLANTABLE)                   1\n",
            "BRACHYTHERAPY NEEDLE                                                                          1\n",
            "CARDIOVERTER-DEFIBRILLATOR, DUAL CHAMBER (IMPLANTABLE)                                        1\n",
            "CARDIOVERTER-DEFIBRILLATOR, SINGLE CHAMBER (IMPLANTABLE)                                      1\n",
            "SEMI-PRIVATE                                                                                  1\n",
            "Name: Description, Length: 5449, dtype: int64\n"
          ]
        }
      ]
    },
    {
      "cell_type": "markdown",
      "source": [
        "## 2. SQLite Database Operations:"
      ],
      "metadata": {
        "id": "h-WQUMKwwiBX"
      }
    },
    {
      "cell_type": "code",
      "source": [
        "import sqlite3\n",
        "\n",
        "# Create or connect to the SQLite database\n",
        "conn = sqlite3.connect('health.db')"
      ],
      "metadata": {
        "id": "2XwubYDiwYY9"
      },
      "execution_count": 26,
      "outputs": []
    },
    {
      "cell_type": "code",
      "source": [
        "# Create a cursor object to execute SQL queries\n",
        "cursor = conn.cursor()\n",
        "\n",
        "# Create a table\n",
        "create_table_query = '''\n",
        "CREATE TABLE IF NOT EXISTS patient_data (\n",
        "    patient_id INTEGER PRIMARY KEY,\n",
        "    patient_name TEXT,\n",
        "    age INTEGER,\n",
        "    gender TEXT,\n",
        "    diagnosis TEXT\n",
        ");\n",
        "'''\n",
        "cursor.execute(create_table_query)\n",
        "\n",
        "# Insert sample data\n",
        "insert_data_query = '''\n",
        "INSERT INTO patient_data (patient_name, age, gender, diagnosis)\n",
        "VALUES\n",
        "    ('Bob Sun', 65, 'Male', 'Hypertension'),\n",
        "    ('Nina Smith', 32, 'Female', 'Diabetes');\n",
        "'''\n",
        "cursor.execute(insert_data_query)\n",
        "\n",
        "# Commit the changes to the database\n",
        "conn.commit()\n"
      ],
      "metadata": {
        "id": "FSHGplRHxu5w"
      },
      "execution_count": 27,
      "outputs": []
    }
  ]
}